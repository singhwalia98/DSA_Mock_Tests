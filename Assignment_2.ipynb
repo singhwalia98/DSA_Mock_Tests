{
 "cells": [
  {
   "cell_type": "code",
   "execution_count": 1,
   "metadata": {},
   "outputs": [
    {
     "data": {
      "text/plain": [
       "'bahseR'"
      ]
     },
     "execution_count": 1,
     "metadata": {},
     "output_type": "execute_result"
    }
   ],
   "source": [
    "# 1. Write a Python program to reverse a string without using any built-in string reversal functions.\n",
    "\n",
    "def string_reversal(string):\n",
    "    if type(string) == str:\n",
    "        return(string[::-1])\n",
    "    else:\n",
    "        return('Please enter the correct Data type for reversal')\n",
    "    \n",
    "string_reversal('Reshab')"
   ]
  },
  {
   "cell_type": "code",
   "execution_count": 2,
   "metadata": {},
   "outputs": [
    {
     "name": "stdout",
     "output_type": "stream",
     "text": [
      "The given string is a Palindrome\n",
      "The given string is a Palindrome\n",
      "The given string is a Palindrome\n",
      "Given string is not a Palindrome\n"
     ]
    }
   ],
   "source": [
    "# 2. Implement a function to check if a given string is a palindrome.\n",
    "\n",
    "def Palindrome_check(text):\n",
    "    text = text.lower()\n",
    "    if text[::] == text[::-1]:\n",
    "        return ('The given string is a Palindrome')\n",
    "    else:\n",
    "        return('Given string is not a Palindrome')\n",
    "    \n",
    "print(Palindrome_check('Madam'))\n",
    "print(Palindrome_check('Racecar'))\n",
    "print(Palindrome_check('Level'))\n",
    "print(Palindrome_check('Reshab'))"
   ]
  },
  {
   "cell_type": "code",
   "execution_count": 3,
   "metadata": {},
   "outputs": [
    {
     "data": {
      "text/plain": [
       "39"
      ]
     },
     "execution_count": 3,
     "metadata": {},
     "output_type": "execute_result"
    }
   ],
   "source": [
    "# 3. Write a program to find the largest element in a given list.\n",
    "\n",
    "def find_largest_element(lst):\n",
    "    if len(lst) == 0:\n",
    "        return ('Empty List. Please try again!') \n",
    "    largest_element = lst[0]\n",
    "    for i in lst:\n",
    "        if i > largest_element:\n",
    "            largest_element = i\n",
    "    return largest_element\n",
    "\n",
    "## Driver code\n",
    "test_list = [1,10,3,15,8,20,39]\n",
    "find_largest_element(test_list)"
   ]
  },
  {
   "cell_type": "code",
   "execution_count": 4,
   "metadata": {},
   "outputs": [
    {
     "name": "stdout",
     "output_type": "stream",
     "text": [
      "1: 1 times\n",
      "10: 2 times\n",
      "3: 1 times\n",
      "8: 2 times\n",
      "8: 2 times\n",
      "20: 1 times\n",
      "39: 1 times\n",
      "10: 2 times\n"
     ]
    }
   ],
   "source": [
    "## 4. Implement a function to count the occurrence of each element in a list.\n",
    "\n",
    "def Count_Occurence(lst):\n",
    "    if not lst:\n",
    "        return('Empty List. Please try again!')\n",
    "    for i in lst:\n",
    "        print (f\"{i}: {lst.count(i)} times\")\n",
    "\n",
    "## Driver code\n",
    "test_list = [1, 10, 3, 8, 8, 20, 39, 10]\n",
    "Count_Occurence(test_list)"
   ]
  },
  {
   "cell_type": "code",
   "execution_count": 5,
   "metadata": {},
   "outputs": [
    {
     "data": {
      "text/plain": [
       "25"
      ]
     },
     "execution_count": 5,
     "metadata": {},
     "output_type": "execute_result"
    }
   ],
   "source": [
    "# 5. Write a Python program to find the second largest number in a list.\n",
    "\n",
    "def Second_largest_Number(lst):\n",
    "    if len(lst) < 2:\n",
    "        return('Not enough elements. Please try again!')\n",
    "    \n",
    "    largest_element = max(lst[0], lst[1])\n",
    "    second_largest_element = min(lst[0], lst[1])\n",
    "\n",
    "    for i in lst[2:]:\n",
    "        if i > largest_element:\n",
    "            second_largest_element = largest_element\n",
    "            largest_element = i\n",
    "    return second_largest_element\n",
    "\n",
    "## Driver code\n",
    "test_list = [1, 25, 10, 3, 8, 8, 20, 39, 10]\n",
    "Second_largest_Number(test_list)"
   ]
  },
  {
   "cell_type": "code",
   "execution_count": 6,
   "metadata": {},
   "outputs": [
    {
     "data": {
      "text/plain": [
       "[1, 3, 8, 10, 20]"
      ]
     },
     "execution_count": 6,
     "metadata": {},
     "output_type": "execute_result"
    }
   ],
   "source": [
    "# 6. Implement a function to remove duplicate elements from a list.\n",
    "\n",
    "def Remove_Duplicates(lst):\n",
    "    if not lst:\n",
    "        return('Empty List. Please try again!')\n",
    "    unique_list = set(lst)\n",
    "    return list(unique_list)\n",
    "\n",
    "test_list = [1, 20, 10, 3, 8, 8, 20, 10]\n",
    "Remove_Duplicates(test_list)"
   ]
  },
  {
   "cell_type": "code",
   "execution_count": 7,
   "metadata": {},
   "outputs": [
    {
     "data": {
      "text/plain": [
       "120"
      ]
     },
     "execution_count": 7,
     "metadata": {},
     "output_type": "execute_result"
    }
   ],
   "source": [
    "# 7. Write a program to calculate the factorial of a given number.\n",
    "\n",
    "def Factorial(num):\n",
    "    if num == 1:\n",
    "        return num\n",
    "    if num > 1: return num * Factorial(num-1)\n",
    "\n",
    "Factorial(5)"
   ]
  },
  {
   "cell_type": "code",
   "execution_count": 8,
   "metadata": {},
   "outputs": [
    {
     "data": {
      "text/plain": [
       "False"
      ]
     },
     "execution_count": 8,
     "metadata": {},
     "output_type": "execute_result"
    }
   ],
   "source": [
    "# 8. Implement a function to check if a given number is prime.\n",
    "\n",
    "def Prime_number(num):\n",
    "    if num <= 1:\n",
    "        return('Invalid input. Pls try again!')\n",
    "    else:\n",
    "        for i in range(2, int(num**0.5)+1):\n",
    "            if num % i == 0:\n",
    "                return False\n",
    "    return True\n",
    "\n",
    "Prime_number(7)"
   ]
  },
  {
   "cell_type": "code",
   "execution_count": 9,
   "metadata": {},
   "outputs": [
    {
     "data": {
      "text/plain": [
       "[1, 3, 8, 10, 20]"
      ]
     },
     "execution_count": 9,
     "metadata": {},
     "output_type": "execute_result"
    }
   ],
   "source": [
    "# 9. Write a Python program to sort a list of integers in ascending order.\n",
    "\n",
    "def Sort_int(lst):\n",
    "    if not lst:\n",
    "        return ('Empty List. Please try again!')\n",
    "    else:\n",
    "        lst.sort()\n",
    "        return(lst)\n",
    "\n",
    "test_list = [1, 10, 3, 8, 20]\n",
    "Sort_int(test_list)"
   ]
  },
  {
   "cell_type": "code",
   "execution_count": 10,
   "metadata": {},
   "outputs": [
    {
     "data": {
      "text/plain": [
       "69"
      ]
     },
     "execution_count": 10,
     "metadata": {},
     "output_type": "execute_result"
    }
   ],
   "source": [
    "# 10. Implement a function to find the sum of all numbers in a list.\n",
    "\n",
    "def Sum_Of_All_Numbers(lst):\n",
    "    if not lst:\n",
    "        return ('Empty List. Please try again!')\n",
    "    else:\n",
    "        return sum(lst)\n",
    "\n",
    "test_list = [1, 10, 3, 8, 20, 27]\n",
    "Sum_Of_All_Numbers(test_list)"
   ]
  },
  {
   "cell_type": "code",
   "execution_count": 11,
   "metadata": {},
   "outputs": [
    {
     "data": {
      "text/plain": [
       "[1, 10, 20]"
      ]
     },
     "execution_count": 11,
     "metadata": {},
     "output_type": "execute_result"
    }
   ],
   "source": [
    "# 11. Write a program to find the common elements between two lists.\n",
    "\n",
    "def common_elements(lst1, lst2):\n",
    "    if not lst1 and lst2:\n",
    "        return ('Empty List. Please try again!')\n",
    "    new_list = []\n",
    "    for i in lst1:\n",
    "        for j in lst2:\n",
    "            if i == j:\n",
    "                new_list.append(i)\n",
    "    return new_list\n",
    "\n",
    "## Driver code\n",
    "test_list1 = [1, 10, 3, 8, 20, 27]\n",
    "test_list2 = [1, 10, 5, 9, 20, 29]\n",
    "common_elements(test_list1, test_list2)"
   ]
  },
  {
   "cell_type": "code",
   "execution_count": 12,
   "metadata": {},
   "outputs": [
    {
     "name": "stdout",
     "output_type": "stream",
     "text": [
      "True\n",
      "False\n"
     ]
    }
   ],
   "source": [
    "# 12. Implement a function to check if a given string is an anagram of another string.\n",
    "\n",
    "def Anagram_check(str1, str2):\n",
    "    str1.strip().lower()\n",
    "    str2.strip().lower()\n",
    "\n",
    "    if len(str1) != len(str2): return False\n",
    "\n",
    "    count1 = {}\n",
    "    count2 = {}\n",
    "    \n",
    "    for char in str1:\n",
    "        count1[char] = count1.get(char, 0) + 1\n",
    "\n",
    "    for char in str2:\n",
    "        count2[char] = count2.get(char, 0) + 1 \n",
    "\n",
    "    if count1 == count2:\n",
    "        return True\n",
    "    else:\n",
    "        return False\n",
    "    \n",
    "print(Anagram_check('United', 'Untied'))\n",
    "print(Anagram_check('Reshab', 'Rehab'))"
   ]
  },
  {
   "cell_type": "code",
   "execution_count": 13,
   "metadata": {},
   "outputs": [
    {
     "name": "stdout",
     "output_type": "stream",
     "text": [
      "Stack\n",
      "Stakc\n",
      "Stcak\n",
      "Stcka\n",
      "Stkac\n",
      "Stkca\n",
      "Satck\n",
      "Satkc\n",
      "Sactk\n",
      "Sackt\n",
      "Saktc\n",
      "Sakct\n",
      "Sctak\n",
      "Sctka\n",
      "Scatk\n",
      "Scakt\n",
      "Sckta\n",
      "Sckat\n",
      "Sktac\n",
      "Sktca\n",
      "Skatc\n",
      "Skact\n",
      "Skcta\n",
      "Skcat\n",
      "tSack\n",
      "tSakc\n",
      "tScak\n",
      "tScka\n",
      "tSkac\n",
      "tSkca\n",
      "taSck\n",
      "taSkc\n",
      "tacSk\n",
      "tackS\n",
      "takSc\n",
      "takcS\n",
      "tcSak\n",
      "tcSka\n",
      "tcaSk\n",
      "tcakS\n",
      "tckSa\n",
      "tckaS\n",
      "tkSac\n",
      "tkSca\n",
      "tkaSc\n",
      "tkacS\n",
      "tkcSa\n",
      "tkcaS\n",
      "aStck\n",
      "aStkc\n",
      "aSctk\n",
      "aSckt\n",
      "aSktc\n",
      "aSkct\n",
      "atSck\n",
      "atSkc\n",
      "atcSk\n",
      "atckS\n",
      "atkSc\n",
      "atkcS\n",
      "acStk\n",
      "acSkt\n",
      "actSk\n",
      "actkS\n",
      "ackSt\n",
      "acktS\n",
      "akStc\n",
      "akSct\n",
      "aktSc\n",
      "aktcS\n",
      "akcSt\n",
      "akctS\n",
      "cStak\n",
      "cStka\n",
      "cSatk\n",
      "cSakt\n",
      "cSkta\n",
      "cSkat\n",
      "ctSak\n",
      "ctSka\n",
      "ctaSk\n",
      "ctakS\n",
      "ctkSa\n",
      "ctkaS\n",
      "caStk\n",
      "caSkt\n",
      "catSk\n",
      "catkS\n",
      "cakSt\n",
      "caktS\n",
      "ckSta\n",
      "ckSat\n",
      "cktSa\n",
      "cktaS\n",
      "ckaSt\n",
      "ckatS\n",
      "kStac\n",
      "kStca\n",
      "kSatc\n",
      "kSact\n",
      "kScta\n",
      "kScat\n",
      "ktSac\n",
      "ktSca\n",
      "ktaSc\n",
      "ktacS\n",
      "ktcSa\n",
      "ktcaS\n",
      "kaStc\n",
      "kaSct\n",
      "katSc\n",
      "katcS\n",
      "kacSt\n",
      "kactS\n",
      "kcSta\n",
      "kcSat\n",
      "kctSa\n",
      "kctaS\n",
      "kcaSt\n",
      "kcatS\n"
     ]
    }
   ],
   "source": [
    "# 13. Write a Python program to generate all permutations of a given string.\n",
    "\n",
    "from itertools import permutations\n",
    "def Generate_Permutations(str):\n",
    "    for p in permutations(str):\n",
    "        print (''.join(p))\n",
    "\n",
    "Generate_Permutations('Stack')"
   ]
  },
  {
   "cell_type": "code",
   "execution_count": 14,
   "metadata": {},
   "outputs": [
    {
     "data": {
      "text/plain": [
       "[0, 1, 1, 2, 3, 5, 8, 13, 21, 34]"
      ]
     },
     "execution_count": 14,
     "metadata": {},
     "output_type": "execute_result"
    }
   ],
   "source": [
    "# 14. Implement a function to calculate the Fibonacci sequence up to a given number of terms.\n",
    "\n",
    "def Fibonacci_Seq(num):\n",
    "    Fib_seq = []\n",
    "    if num >= 1: Fib_seq.append(0)\n",
    "    if num >= 2: Fib_seq.append(1)\n",
    "    if num > 2:\n",
    "        for i in range(2, num):\n",
    "            next_num = Fib_seq[i-1] + Fib_seq[i-2]\n",
    "            Fib_seq.append(next_num)\n",
    "    return Fib_seq\n",
    "\n",
    "Fibonacci_Seq(10)"
   ]
  },
  {
   "cell_type": "code",
   "execution_count": 15,
   "metadata": {},
   "outputs": [
    {
     "name": "stdout",
     "output_type": "stream",
     "text": [
      "4\n",
      "3\n"
     ]
    }
   ],
   "source": [
    "# 15. Write a program to find the median of a list of numbers.\n",
    "\n",
    "def find_median(lst):\n",
    "    i = 0\n",
    "    j = lst.index(lst[-1])\n",
    "    mid = i + (j - i) // 2 \n",
    "\n",
    "    if len(lst) % 2 != 0:\n",
    "        return lst[mid]\n",
    "    else:\n",
    "        return lst[mid] + lst[mid + 1] % 2\n",
    "\n",
    "## Driver code\n",
    "print(find_median([1,2,3,4,6,7,8]))\n",
    "print(find_median([1,2,3,4,7,8]))"
   ]
  },
  {
   "cell_type": "code",
   "execution_count": 16,
   "metadata": {},
   "outputs": [
    {
     "name": "stdout",
     "output_type": "stream",
     "text": [
      "True\n",
      "False\n"
     ]
    }
   ],
   "source": [
    "# 6. Implement a function to check if a given list is sorted in non-decreasing order.\n",
    "\n",
    "def check_sorted(lst):\n",
    "    for i in range(1, len(lst)):\n",
    "        if lst[i] < lst[i-1]:\n",
    "            return False\n",
    "    return True\n",
    "\n",
    "print(check_sorted([1, 3, 10, 15, 20, 27]))\n",
    "print(check_sorted([2,5,16,5,7,9]))"
   ]
  },
  {
   "cell_type": "code",
   "execution_count": 17,
   "metadata": {},
   "outputs": [
    {
     "data": {
      "text/plain": [
       "[1, 2, 3]"
      ]
     },
     "execution_count": 17,
     "metadata": {},
     "output_type": "execute_result"
    }
   ],
   "source": [
    "# 17. Write a Python program to find the intersection of two lists.\n",
    "\n",
    "def List_intersection(lst1, lst2):\n",
    "    if not lst1 and lst2:\n",
    "        return ('Empty List')\n",
    "    if len(lst1) and len(lst2) > 2:\n",
    "        new_list = set(lst1).intersection(lst2)\n",
    "        return list(new_list)\n",
    "    \n",
    "lst1 = [1,2,3,4,5,6]\n",
    "lst2 = [1,2,3,8,9]\n",
    "List_intersection(lst1, lst2)"
   ]
  },
  {
   "cell_type": "code",
   "execution_count": 18,
   "metadata": {},
   "outputs": [
    {
     "data": {
      "text/plain": [
       "45"
      ]
     },
     "execution_count": 18,
     "metadata": {},
     "output_type": "execute_result"
    }
   ],
   "source": [
    "# 18. Implement a function to find the maximum subarray sum in a given list.\n",
    "\n",
    "def max_subarray_sum(lst):\n",
    "    max_sum = lst[0] \n",
    "    current_sum = lst[0] \n",
    "\n",
    "    for num in lst[1:]:\n",
    "        current_sum = num + current_sum\n",
    "        max_sum = max(max_sum, current_sum)\n",
    "\n",
    "    return max_sum\n",
    "\n",
    "max_subarray_sum([1,2,3,4,5,6,7,8,9])"
   ]
  },
  {
   "cell_type": "code",
   "execution_count": 19,
   "metadata": {},
   "outputs": [
    {
     "data": {
      "text/plain": [
       "'Rshb'"
      ]
     },
     "execution_count": 19,
     "metadata": {},
     "output_type": "execute_result"
    }
   ],
   "source": [
    "# 19. Write a program to remove all vowels from a given string.\n",
    "\n",
    "def vowel_removal(str1):\n",
    "    vowels = 'aeiouAEIOU'\n",
    "    vowel_free = []\n",
    "    for i in str1:\n",
    "        if i not in vowels:\n",
    "            vowel_free.append(i)\n",
    "    return ''.join(vowel_free)\n",
    "\n",
    "vowel_removal('Reshab')"
   ]
  },
  {
   "cell_type": "code",
   "execution_count": 20,
   "metadata": {},
   "outputs": [
    {
     "data": {
      "text/plain": [
       "'sevlasnoG ynohtnA si eman yM'"
      ]
     },
     "execution_count": 20,
     "metadata": {},
     "output_type": "execute_result"
    }
   ],
   "source": [
    "# 20. Implement a function to reverse the order of words in a given sentence.\n",
    "\n",
    "def reverse_sentence(string):\n",
    "    return string[::-1]\n",
    "\n",
    "reverse_sentence('My name is Anthony Gonsalves')"
   ]
  },
  {
   "cell_type": "code",
   "execution_count": 21,
   "metadata": {},
   "outputs": [
    {
     "name": "stdout",
     "output_type": "stream",
     "text": [
      "True\n",
      "False\n"
     ]
    }
   ],
   "source": [
    "# 21. Write a Python program to check if two strings are anagrams of each other.\n",
    "\n",
    "def Anagram_check(str1, str2):\n",
    "    if len(str1) != len(str2):\n",
    "        return False\n",
    "    count1 = {}\n",
    "    count2 = {}\n",
    "\n",
    "    for char in str1:\n",
    "        count1[char] = count1.get(char, 0) + 1\n",
    "    for char in str2:\n",
    "        count2[char] = count2.get(char, 0) + 1 \n",
    "\n",
    "    if count1 == count2:\n",
    "        return True\n",
    "    else:\n",
    "        return False\n",
    "    \n",
    "print(Anagram_check('cider', 'cried'))\n",
    "print(Anagram_check('Reshab', 'Reshaba'))"
   ]
  },
  {
   "cell_type": "code",
   "execution_count": 22,
   "metadata": {},
   "outputs": [
    {
     "data": {
      "text/plain": [
       "'a'"
      ]
     },
     "execution_count": 22,
     "metadata": {},
     "output_type": "execute_result"
    }
   ],
   "source": [
    "# 22. Implement a function to find the first non-repeating character in a string.\n",
    "\n",
    "def Non_repeating_char(str):\n",
    "    for i in str:\n",
    "        if str.count(i) <= 1:\n",
    "            return (i)\n",
    "        else:\n",
    "            return ('No non-repeating character found')\n",
    "        \n",
    "Non_repeating_char('abebedfdf')"
   ]
  },
  {
   "cell_type": "code",
   "execution_count": 23,
   "metadata": {},
   "outputs": [
    {
     "data": {
      "text/plain": [
       "[2, 2, 2, 7]"
      ]
     },
     "execution_count": 23,
     "metadata": {},
     "output_type": "execute_result"
    }
   ],
   "source": [
    "# 23. Write a program to find the prime factors of a given number.\n",
    "\n",
    "def Prime_factors(num):\n",
    "    if num <= 1:\n",
    "        return ('The num should be greater than 1')\n",
    "    factors = []\n",
    "    divisor = 2\n",
    "    while divisor <= num:\n",
    "        if num % divisor == 0:\n",
    "            factors.append(divisor)\n",
    "            num = num / divisor\n",
    "        else:\n",
    "            divisor += 1\n",
    "    return factors\n",
    "\n",
    "Prime_factors(56)"
   ]
  },
  {
   "cell_type": "code",
   "execution_count": 24,
   "metadata": {},
   "outputs": [
    {
     "name": "stdout",
     "output_type": "stream",
     "text": [
      "True\n",
      "True\n",
      "False\n"
     ]
    }
   ],
   "source": [
    "# 24. Implement a function to check if a given number is a power of two.\n",
    "\n",
    "def Power_check(num):\n",
    "    if num % 2 == 0:\n",
    "        return True\n",
    "    else:\n",
    "        return False\n",
    "\n",
    "## Driver code    \n",
    "print(Power_check(256))\n",
    "print(Power_check(262144))\n",
    "print(Power_check(1495))"
   ]
  },
  {
   "cell_type": "code",
   "execution_count": 25,
   "metadata": {},
   "outputs": [
    {
     "data": {
      "text/plain": [
       "[1, 2, 3, 4, 5, 8, 10, 15]"
      ]
     },
     "execution_count": 25,
     "metadata": {},
     "output_type": "execute_result"
    }
   ],
   "source": [
    "# 25. Write a Python program to merge two sorted lists into a single sorted list.\n",
    "\n",
    "def Merge_list(lst1, lst2):\n",
    "    if not lst1 and lst2:\n",
    "        return ('Empty list. Pls try again!')\n",
    "    if len(lst1) and len(lst2) > 1:\n",
    "        united_list = set(lst1).union(lst2)\n",
    "        return list(united_list)\n",
    "\n",
    "lst1 = [1,10,2,3,4,5]\n",
    "lst2 = [1,15,2,3,8]    \n",
    "Merge_list(lst1, lst2)"
   ]
  },
  {
   "cell_type": "code",
   "execution_count": 26,
   "metadata": {},
   "outputs": [
    {
     "data": {
      "text/plain": [
       "3"
      ]
     },
     "execution_count": 26,
     "metadata": {},
     "output_type": "execute_result"
    }
   ],
   "source": [
    "# 26. Implement a function to find the mode of a list of numbers.\n",
    "\n",
    "def find_mode(lst):\n",
    "    if not lst1 and lst2:\n",
    "        return ('Empty list. Pls try again!')\n",
    "    most_freq_element = lst.count(lst[0])\n",
    "    for i in lst[1:]:\n",
    "        if lst.count(i) > most_freq_element:\n",
    "             most_freq_element = i\n",
    "    return most_freq_element\n",
    "\n",
    "find_mode([1,2,3,4,2,5,3,3])"
   ]
  },
  {
   "cell_type": "code",
   "execution_count": 4,
   "metadata": {},
   "outputs": [
    {
     "name": "stdout",
     "output_type": "stream",
     "text": [
      "The GCD of 48 and 12 is: 12\n"
     ]
    }
   ],
   "source": [
    "# 27. Write a program to find the greatest common divisor (GCD) of two numbers.\n",
    "\n",
    "def gcd(a, b):\n",
    "    \"\"\"In this Fun we're calculating the GCD using Euclidien algorithm\"\"\"\n",
    "    while b != 0:\n",
    "        remainder = a % b\n",
    "        a = b\n",
    "        b = remainder\n",
    "    return a\n",
    "\n",
    "# Test the function\n",
    "num1 = 48\n",
    "num2 = 12\n",
    "result = gcd(num1, num2)\n",
    "print(f\"The GCD of {num1} and {num2} is: {result}\")"
   ]
  },
  {
   "cell_type": "code",
   "execution_count": 28,
   "metadata": {},
   "outputs": [
    {
     "data": {
      "text/plain": [
       "5.0"
      ]
     },
     "execution_count": 28,
     "metadata": {},
     "output_type": "execute_result"
    }
   ],
   "source": [
    "## 28. Implement a function to calculate the square root of a given number.\n",
    "\n",
    "def find_sqr_root(num):\n",
    "    return num**0.5\n",
    "\n",
    "find_sqr_root(25)"
   ]
  },
  {
   "cell_type": "code",
   "execution_count": 29,
   "metadata": {},
   "outputs": [
    {
     "name": "stdout",
     "output_type": "stream",
     "text": [
      "True\n",
      "True\n"
     ]
    }
   ],
   "source": [
    "# 29. Write a Python program to check if a given string is a valid palindrome ignoring non-alphanumeric characters.\n",
    "\n",
    "def Palindrome_check_non_alpha(str):\n",
    "    str = ''.join([char for char in str if char.isalnum()]).lower()\n",
    "    if str == str[::-1]:\n",
    "        return True\n",
    "    else:\n",
    "        return False\n",
    "    \n",
    "print(Palindrome_check_non_alpha('Madam!&@'))\n",
    "print(Palindrome_check_non_alpha('121#!'))"
   ]
  },
  {
   "cell_type": "code",
   "execution_count": 30,
   "metadata": {},
   "outputs": [
    {
     "data": {
      "text/plain": [
       "2"
      ]
     },
     "execution_count": 30,
     "metadata": {},
     "output_type": "execute_result"
    }
   ],
   "source": [
    "# 30. Implement a function to find the minimum element in a rotated sorted list.\n",
    "\n",
    "def min_element_rotated_sorted_list(lst):\n",
    "    sorted_list = sorted(lst)\n",
    "    rotated_sorted_list = sorted_list[::-1]\n",
    "    return min(rotated_sorted_list)\n",
    "\n",
    "min_element_rotated_sorted_list([20,15,19,3,8,5,4,2])"
   ]
  },
  {
   "cell_type": "code",
   "execution_count": 31,
   "metadata": {},
   "outputs": [
    {
     "data": {
      "text/plain": [
       "86"
      ]
     },
     "execution_count": 31,
     "metadata": {},
     "output_type": "execute_result"
    }
   ],
   "source": [
    "# 31. Write a program to find the sum of all even numbers in a list.\n",
    "\n",
    "def sum_of_even_numbers(lst):\n",
    "    even_numbers = []\n",
    "    for i in lst:\n",
    "        if i % 2 == 0:\n",
    "            even_numbers.append(i)\n",
    "    return(sum(even_numbers))\n",
    "\n",
    "sum_of_even_numbers([2,3,5,8,10,13,15,20,22,24])"
   ]
  },
  {
   "cell_type": "code",
   "execution_count": 13,
   "metadata": {},
   "outputs": [
    {
     "data": {
      "text/plain": [
       "16"
      ]
     },
     "execution_count": 13,
     "metadata": {},
     "output_type": "execute_result"
    }
   ],
   "source": [
    "# 32. Implement a function to calculate the power of a number using recursion.\n",
    "\n",
    "def power(num, exponent):\n",
    "    if exponent == 0:\n",
    "        return 1\n",
    "    elif exponent < 0:\n",
    "        return 1 / power(num, -exponent)\n",
    "    else:\n",
    "        return num * power(num, exponent - 1)\n",
    "\n",
    "power(2,4)"
   ]
  },
  {
   "cell_type": "code",
   "execution_count": 1,
   "metadata": {},
   "outputs": [
    {
     "data": {
      "text/plain": [
       "[1, 2, 5, 8, 6]"
      ]
     },
     "execution_count": 1,
     "metadata": {},
     "output_type": "execute_result"
    }
   ],
   "source": [
    "# 33. Write a Python program to remove duplicates from a list while preserving the order.\n",
    "\n",
    "def remove_duplicates(lst):\n",
    "    unique_list = []\n",
    "\n",
    "    for i in lst:\n",
    "        if i not in unique_list:\n",
    "            unique_list.append(i)\n",
    "    return unique_list\n",
    "\n",
    "\n",
    "## Driver code\n",
    "lst = [1,2,5,2,8,1,6]\n",
    "remove_duplicates(lst)"
   ]
  },
  {
   "cell_type": "code",
   "execution_count": null,
   "metadata": {},
   "outputs": [],
   "source": [
    "# 34. Implement a function to find the longest common prefix among a list of strings.\n",
    "\n",
    "lst = ['Reshab', 'Regex', 'Reshma', 'Romeo']\n"
   ]
  },
  {
   "cell_type": "code",
   "execution_count": 21,
   "metadata": {},
   "outputs": [
    {
     "data": {
      "text/plain": [
       "True"
      ]
     },
     "execution_count": 21,
     "metadata": {},
     "output_type": "execute_result"
    }
   ],
   "source": [
    "# 35. Write a program to check if a given number is a perfect square.\n",
    "\n",
    "def check_perfect_square(num):\n",
    "    if num == 1:\n",
    "        return True\n",
    "    i = 0\n",
    "    while i <= num:\n",
    "        if i * i == num:\n",
    "            return True\n",
    "        else:\n",
    "            i += 1\n",
    "    return False\n",
    "\n",
    "\n",
    "check_perfect_square(64)"
   ]
  },
  {
   "cell_type": "code",
   "execution_count": 10,
   "metadata": {},
   "outputs": [
    {
     "data": {
      "text/plain": [
       "420"
      ]
     },
     "execution_count": 10,
     "metadata": {},
     "output_type": "execute_result"
    }
   ],
   "source": [
    "# 36. Implement a function to calculate the product of all elements in a list.\n",
    "\n",
    "def elements_product(lst):\n",
    "    product = 1\n",
    "\n",
    "    for i in lst:\n",
    "        product = product * int(i)\n",
    "\n",
    "    return product\n",
    "\n",
    "lst = [1,2,5,6,7]\n",
    "elements_product(lst)"
   ]
  },
  {
   "cell_type": "code",
   "execution_count": 68,
   "metadata": {},
   "outputs": [
    {
     "data": {
      "text/plain": [
       "'Man Good A Is Reshab'"
      ]
     },
     "execution_count": 68,
     "metadata": {},
     "output_type": "execute_result"
    }
   ],
   "source": [
    "# 37. Write a Python program to reverse the order of words in a sentence while preserving the word order.\n",
    "\n",
    "def reverse_sentence(str):\n",
    "    str = str.split()\n",
    "    reversed_words = ' '.join((str[::-1]))\n",
    "    return reversed_words.title()\n",
    "\n",
    "reverse_sentence('Reshab is a Good Man')"
   ]
  },
  {
   "cell_type": "code",
   "execution_count": 75,
   "metadata": {},
   "outputs": [
    {
     "data": {
      "text/plain": [
       "2"
      ]
     },
     "execution_count": 75,
     "metadata": {},
     "output_type": "execute_result"
    }
   ],
   "source": [
    "# 38. Implement a function to find the missing number in a given list of consecutive numbers.\n",
    "\n",
    "def missing_number(lst):\n",
    "    n = len(lst) + 1\n",
    "    expected_sum = n*(n+1) // 2\n",
    "    actual_sum = sum(lst)\n",
    "    missed_num = expected_sum - actual_sum\n",
    "    return missed_num\n",
    "\n",
    "lst = [1,3,4,5]\n",
    "missing_number(lst)"
   ]
  },
  {
   "cell_type": "code",
   "execution_count": 7,
   "metadata": {},
   "outputs": [
    {
     "data": {
      "text/plain": [
       "36"
      ]
     },
     "execution_count": 7,
     "metadata": {},
     "output_type": "execute_result"
    }
   ],
   "source": [
    "# 39. Write a program to find the sum of digits of a given number.\n",
    "\n",
    "def sum_of_digits(num):\n",
    "    num = str(num)\n",
    "    sum = 0\n",
    "\n",
    "    for i in num:\n",
    "        sum += int(i)\n",
    "    return sum\n",
    "\n",
    "sum_of_digits(1258965)"
   ]
  },
  {
   "cell_type": "code",
   "execution_count": 1,
   "metadata": {},
   "outputs": [
    {
     "data": {
      "text/plain": [
       "'madam: is a Palindrome'"
      ]
     },
     "execution_count": 1,
     "metadata": {},
     "output_type": "execute_result"
    }
   ],
   "source": [
    "# 40. Implement a function to check if a given string is a valid palindrome considering case sensitivity.\n",
    "\n",
    "def palindrome_with_case_sensitivity(text):\n",
    "    text = text.lower()\n",
    "    if text[:] == text[::-1]:\n",
    "        return (f'{text}: is a Palindrome')\n",
    "    else:\n",
    "        return (f'{text}: is not a Palindrome')\n",
    "    \n",
    "palindrome_with_case_sensitivity('Madam')"
   ]
  },
  {
   "cell_type": "code",
   "execution_count": 27,
   "metadata": {},
   "outputs": [
    {
     "data": {
      "text/plain": [
       "1"
      ]
     },
     "execution_count": 27,
     "metadata": {},
     "output_type": "execute_result"
    }
   ],
   "source": [
    "# 41. Write a Python program to find the smallest missing positive integer in a list.\n",
    "\n",
    "def smallest_positive_int(lst):\n",
    "    if not lst:\n",
    "        return ('Empty List!')\n",
    "    \n",
    "    Positive_integers = set()\n",
    "    for i in lst:\n",
    "        if i >= 1:\n",
    "            Positive_integers.add(i)\n",
    "\n",
    "    smallest = 1\n",
    "    while smallest in Positive_integers:\n",
    "        smallest += 1\n",
    "        \n",
    "    return smallest\n",
    "\n",
    "lst = [2,3,5,6,7,8]\n",
    "smallest_positive_int(lst)"
   ]
  },
  {
   "cell_type": "code",
   "execution_count": null,
   "metadata": {},
   "outputs": [],
   "source": [
    "# 43. Write a program to find the number of occurrences of a given element in a list.\n",
    "\n",
    "def find_occurences(lst, x):\n",
    "    if not lst:\n",
    "        return ('Empty list!')\n",
    "    else:\n",
    "        return lst.count(x)\n",
    "\n",
    "lst = [1,2,2,3,6,8,9,6,1]\n",
    "x = 2\n",
    "find_occurences(lst, x)"
   ]
  },
  {
   "cell_type": "code",
   "execution_count": 25,
   "metadata": {},
   "outputs": [
    {
     "name": "stdout",
     "output_type": "stream",
     "text": [
      "6 is a Perfect number\n",
      "12 is not a Perfect number\n",
      "28 is a Perfect number\n"
     ]
    }
   ],
   "source": [
    "# 44. Implement a function to check if a given number is a perfect number.\n",
    "\n",
    "def perfect_number(num):\n",
    "    divisors = []\n",
    "    for i in range(1,num):\n",
    "        if num % i == 0 and i <= num:\n",
    "            divisors.append(i)\n",
    "        else:\n",
    "            continue\n",
    "        \n",
    "    if sum(divisors) == num:\n",
    "        return (f'{num} is a Perfect number')\n",
    "    else:\n",
    "        return (f'{num} is not a Perfect number')\n",
    "            \n",
    "print(perfect_number(6))\n",
    "print(perfect_number(12))\n",
    "print(perfect_number(28))"
   ]
  },
  {
   "cell_type": "code",
   "execution_count": 43,
   "metadata": {},
   "outputs": [
    {
     "data": {
      "text/plain": [
       "'Reshab'"
      ]
     },
     "execution_count": 43,
     "metadata": {},
     "output_type": "execute_result"
    }
   ],
   "source": [
    "# 45. Write a Python program to remove all duplicates from a string.\n",
    "\n",
    "def remove_duplicates(str):\n",
    "    unique_str = ''\n",
    "    \n",
    "    for char in str:\n",
    "        if char not in unique_str:\n",
    "            unique_str += char\n",
    "        \n",
    "    return unique_str\n",
    "    \n",
    "remove_duplicates('Ressshabaaabb')"
   ]
  },
  {
   "cell_type": "code",
   "execution_count": 28,
   "metadata": {},
   "outputs": [
    {
     "data": {
      "text/plain": [
       "3"
      ]
     },
     "execution_count": 28,
     "metadata": {},
     "output_type": "execute_result"
    }
   ],
   "source": [
    "# 46. Implement a function to find the first missing positive\n",
    "\n",
    "def first_missing_positive(lst):\n",
    "    positive_numbers = set()\n",
    "\n",
    "    for i in lst:\n",
    "        if i >= 1:\n",
    "            positive_numbers.add(i)\n",
    "\n",
    "    smallest = 1\n",
    "    while smallest in positive_numbers:\n",
    "        smallest += 1\n",
    "    \n",
    "    return smallest\n",
    "\n",
    "## Driver code\n",
    "lst = [1,2,5,9,-1,-7,11]\n",
    "first_missing_positive(lst)"
   ]
  },
  {
   "cell_type": "code",
   "execution_count": null,
   "metadata": {},
   "outputs": [],
   "source": []
  }
 ],
 "metadata": {
  "kernelspec": {
   "display_name": "base",
   "language": "python",
   "name": "python3"
  },
  "language_info": {
   "codemirror_mode": {
    "name": "ipython",
    "version": 3
   },
   "file_extension": ".py",
   "mimetype": "text/x-python",
   "name": "python",
   "nbconvert_exporter": "python",
   "pygments_lexer": "ipython3",
   "version": "3.9.16"
  },
  "orig_nbformat": 4
 },
 "nbformat": 4,
 "nbformat_minor": 2
}
