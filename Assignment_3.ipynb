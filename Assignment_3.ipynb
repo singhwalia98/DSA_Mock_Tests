{
 "cells": [
  {
   "cell_type": "markdown",
   "metadata": {},
   "source": [
    "1. Scenario: A company wants to analyze the sales performance of its products in different regions. They have collected the following data:\n",
    "\n",
    "   Region A: [10, 15, 12, 8, 14]\n",
    "   Region B: [18, 20, 16, 22, 25]\n",
    "   Calculate the mean sales for each region.\n"
   ]
  },
  {
   "cell_type": "code",
   "execution_count": 44,
   "metadata": {},
   "outputs": [
    {
     "name": "stdout",
     "output_type": "stream",
     "text": [
      "The mean sales for Region A: 11.8\n",
      "The mean sales for Region B: 20.2\n"
     ]
    }
   ],
   "source": [
    "Region_A = [10, 15, 12, 8, 14]\n",
    "Region_B = [18, 20, 16, 22, 25]\n",
    "\n",
    "import numpy as np\n",
    "print(\"The mean sales for Region A:\", np.mean(Region_A))\n",
    "print(\"The mean sales for Region B:\", np.mean(Region_B))"
   ]
  },
  {
   "cell_type": "markdown",
   "metadata": {},
   "source": [
    "2. Scenario: A survey is conducted to measure customer satisfaction on a scale of 1 to 5. The data collected is as follows:\n",
    "\n",
    "   [4, 5, 2, 3, 5, 4, 3, 2, 4, 5]\n",
    "   Calculate the mode of the survey responses.\n"
   ]
  },
  {
   "cell_type": "code",
   "execution_count": 45,
   "metadata": {},
   "outputs": [
    {
     "name": "stdout",
     "output_type": "stream",
     "text": [
      "The most frequent survey response is:  4\n"
     ]
    }
   ],
   "source": [
    "survey_responses = [4, 5, 2, 3, 5, 4, 3, 2, 4, 5]\n",
    "from statistics import mode\n",
    "print(\"The most frequent survey response is: \", mode(survey_responses))"
   ]
  },
  {
   "cell_type": "markdown",
   "metadata": {},
   "source": [
    "3. Scenario: A company wants to compare the salaries of two departments. The salary data for Department A and Department B are as follows:\n",
    "\n",
    "   Department A: [5000, 6000, 5500, 7000]\n",
    "   Department B: [4500, 5500, 5800, 6000, 5200]\n",
    "   Calculate the median salary for each department.\n"
   ]
  },
  {
   "cell_type": "code",
   "execution_count": 46,
   "metadata": {},
   "outputs": [
    {
     "name": "stdout",
     "output_type": "stream",
     "text": [
      "The median salary for Dept. A is:  5750.0\n",
      "The median salary for Dept. B is:  5500.0\n"
     ]
    }
   ],
   "source": [
    "Department_A = [5000, 6000, 5500, 7000]\n",
    "Department_B = [4500, 5500, 5800, 6000, 5200]\n",
    "print(\"The median salary for Dept. A is: \",np.median(Department_A))\n",
    "print(\"The median salary for Dept. B is: \",np.median(Department_B))"
   ]
  },
  {
   "cell_type": "markdown",
   "metadata": {},
   "source": [
    "4. Scenario: A data analyst wants to determine the variability in the daily stock prices of a company. The data collected is as follows:\n",
    "\n",
    "   [25.5, 24.8, 26.1, 25.3, 24.9]\n",
    "   Calculate the range of the stock prices."
   ]
  },
  {
   "cell_type": "code",
   "execution_count": 47,
   "metadata": {},
   "outputs": [
    {
     "name": "stdout",
     "output_type": "stream",
     "text": [
      "The Price range in stock prices are: 1.3\n"
     ]
    }
   ],
   "source": [
    "prices = [25.5, 24.8, 26.1, 25.3, 24.9]\n",
    "min_price = min(prices)\n",
    "max_price = max(prices)\n",
    "priceRange = max_price - min_price\n",
    "print(\"The Price range in stock prices are:\" ,round(priceRange,2))"
   ]
  },
  {
   "cell_type": "markdown",
   "metadata": {},
   "source": [
    "5. Scenario: A study is conducted to compare the performance of two different teaching methods. The test scores of the students in each group are as follows:\n",
    "\n",
    "   Group A: [85, 90, 92, 88, 91]\n",
    "   Group B: [82, 88, 90, 86, 87]\n",
    "   Perform a t-test to determine if there is a significant difference in the mean scores between the two groups."
   ]
  },
  {
   "cell_type": "code",
   "execution_count": 48,
   "metadata": {},
   "outputs": [
    {
     "name": "stdout",
     "output_type": "stream",
     "text": [
      "1.4312528946642733\n",
      "0.19023970239078333\n"
     ]
    }
   ],
   "source": [
    "GroupA = [85, 90, 92, 88, 91]\n",
    "GroupB = [82, 88, 90, 86, 87]\n",
    "from scipy.stats import ttest_ind\n",
    "t_statistic, p_value = ttest_ind(GroupA, GroupB)\n",
    "print(t_statistic)\n",
    "print(p_value)\n",
    "\n",
    "## Based on the P-value (0.19) which is greater than the significance level that is 0.05 we don't have enough evidence to reject the null hypothesis \n",
    "# which is that there is a significant difference in the mean scores between the two groups."
   ]
  },
  {
   "cell_type": "markdown",
   "metadata": {},
   "source": [
    "6. Scenario: A company wants to analyze the relationship between advertising expenditure and sales. The data collected is as follows:\n",
    "\n",
    "   Advertising Expenditure (in thousands): [10, 15, 12, 8, 14]\n",
    "   Sales (in thousands): [25, 30, 28, 20, 26]\n",
    "   Calculate the correlation coefficient between advertising expenditure and sales."
   ]
  },
  {
   "cell_type": "code",
   "execution_count": 49,
   "metadata": {},
   "outputs": [
    {
     "name": "stdout",
     "output_type": "stream",
     "text": [
      "The correlation coefficient between advertising expenditure and sales is:  87.58 %\n"
     ]
    }
   ],
   "source": [
    "import pandas as pd\n",
    "AdvertisingExpenditure = [10, 15, 12, 8, 14]\n",
    "Sales = [25, 30, 28, 20, 26]\n",
    "data = {'AdvertisingExpenditure': [10, 15, 12, 8, 14], 'Sales': [25, 30, 28, 20, 26]}\n",
    "df = pd.DataFrame(data)\n",
    "correlation_coefficient = df['Sales'].corr(df['AdvertisingExpenditure'], method='pearson')\n",
    "print(\"The correlation coefficient between advertising expenditure and sales is: \",round(correlation_coefficient*100, 2),'%')"
   ]
  },
  {
   "cell_type": "markdown",
   "metadata": {},
   "source": [
    "7. Scenario: A survey is conducted to measure the heights of a group of people. The data collected is as follows:\n",
    "\n",
    "   [160, 170, 165, 155, 175, 180, 170]\n",
    "   Calculate the standard deviation of the heights.\n"
   ]
  },
  {
   "cell_type": "code",
   "execution_count": 50,
   "metadata": {},
   "outputs": [
    {
     "name": "stdout",
     "output_type": "stream",
     "text": [
      "The standard deviation of the heights is:  7.95\n"
     ]
    }
   ],
   "source": [
    "heights = [160, 170, 165, 155, 175, 180, 170]\n",
    "heights_std = np.std(heights)\n",
    "print(\"The standard deviation of the heights is: \", round(heights_std,2))"
   ]
  },
  {
   "cell_type": "markdown",
   "metadata": {},
   "source": [
    "8. Scenario: A company wants to analyze the relationship between employee tenure and job satisfaction. The data collected is as follows:\n",
    "\n",
    "   Employee Tenure (in years): [2, 3, 5, 4, 6, 2, 4]\n",
    "   Job Satisfaction (on a scale of 1 to 10): [7, 8, 6, 9, 5, 7, 6]\n",
    "   Perform a linear regression analysis to predict job satisfaction based on employee tenure.\n"
   ]
  },
  {
   "cell_type": "code",
   "execution_count": 51,
   "metadata": {},
   "outputs": [
    {
     "name": "stdout",
     "output_type": "stream",
     "text": [
      "The predicted job satisfaction for the tenure [[12]] is:  [2.98]\n"
     ]
    }
   ],
   "source": [
    "import pandas as pd\n",
    "import numpy as np\n",
    "from sklearn.linear_model import LinearRegression\n",
    "data = {'Employee Tenure': [2, 3, 5, 4, 6, 2, 4], 'Job Satisfaction': [7, 8, 6, 9, 5, 7, 6]}\n",
    "df = pd.DataFrame(data)\n",
    "\n",
    "X = np.array(df['Employee Tenure']).reshape(-1,1)\n",
    "y = df['Job Satisfaction']\n",
    "\n",
    "linear_Regression = LinearRegression()\n",
    "linear_Regression.fit(X,y)\n",
    "new_tenure = np.array([12]).reshape(-1,1)\n",
    "predicted_satisfaction = linear_Regression.predict(new_tenure)\n",
    "print(f\"The predicted job satisfaction for the tenure {new_tenure} is: \",np.round(predicted_satisfaction,2))"
   ]
  },
  {
   "cell_type": "markdown",
   "metadata": {},
   "source": [
    "9. Scenario: A study is conducted to compare the effectiveness of two different medications. The recovery times of the patients in each group are as follows:\n",
    "\n",
    "Medication A: [10, 12, 14, 11, 13]\n",
    "Medication B: [15, 17, 16, 14, 18]\n",
    "Perform an analysis of variance (ANOVA) to determine if there is a significant difference in the mean recovery times between the two medications.\n"
   ]
  },
  {
   "cell_type": "code",
   "execution_count": 52,
   "metadata": {},
   "outputs": [
    {
     "name": "stdout",
     "output_type": "stream",
     "text": [
      "F-value: 16.0\n",
      "p-value: 0.004\n"
     ]
    }
   ],
   "source": [
    "from scipy import stats\n",
    "\n",
    "medication_a = [10, 12, 14, 11, 13]\n",
    "medication_b = [15, 17, 16, 14, 18]\n",
    "\n",
    "f_value, p_value = stats.f_oneway(medication_a, medication_b)\n",
    "\n",
    "print(\"F-value:\", f_value)\n",
    "print(\"p-value:\", round(p_value,3))\n",
    "\n",
    "# P value is less than 0.05 significance level hence we reject the null hypothesis. "
   ]
  },
  {
   "cell_type": "markdown",
   "metadata": {},
   "source": [
    "10. Scenario: A company wants to analyze customer feedback ratings on a scale of 1 to 10. The data collected is\n",
    "\n",
    " as follows:\n",
    "    [8, 9, 7, 6, 8, 10, 9, 8, 7, 8]\n",
    "    Calculate the 75th percentile of the feedback ratings.\n"
   ]
  },
  {
   "cell_type": "code",
   "execution_count": 53,
   "metadata": {},
   "outputs": [
    {
     "name": "stdout",
     "output_type": "stream",
     "text": [
      "The 75th percentile of the feedback ratings is: 8.75\n"
     ]
    }
   ],
   "source": [
    "from scipy import stats\n",
    "feedback_ratings = [8, 9, 7, 6, 8, 10, 9, 8, 7, 8]\n",
    "print(\"The 75th percentile of the feedback ratings is:\",stats.scoreatpercentile(feedback_ratings, 75))"
   ]
  },
  {
   "cell_type": "markdown",
   "metadata": {},
   "source": [
    "11. Scenario: A quality control department wants to test the weight consistency of a product. The weights of a sample of products are as follows:\n",
    "    [10.2, 9.8, 10.0, 10.5, 10.3, 10.1]\n",
    "    Perform a hypothesis test to determine if the mean weight differs significantly from 10 grams."
   ]
  },
  {
   "cell_type": "code",
   "execution_count": 54,
   "metadata": {},
   "outputs": [
    {
     "name": "stdout",
     "output_type": "stream",
     "text": [
      "H0: The mean weight is equal to 10 grams.\n",
      "Ha: The mean weight is different from 10 grams.\n",
      "t-statistic: 0.676481425202548\n",
      "p-value: 0.26437925912049964\n",
      "Fail to reject H0.\n"
     ]
    }
   ],
   "source": [
    "import numpy as np\n",
    "import scipy.stats as stats\n",
    "\n",
    "alpha = 0.05\n",
    "sample_mean = np.mean([10.2, 9.8, 10.0, 10.5, 10.3, 10.1])\n",
    "\n",
    "H0 = \"The mean weight is equal to 10 grams.\"\n",
    "Ha = \"The mean weight is different from 10 grams.\"\n",
    "t_statistic = (sample_mean - 10) / np.std([10.2, 9.8, 10.0, 10.5, 10.3, 10.1])\n",
    "p_value = 1 - stats.t.cdf(t_statistic, df=5)\n",
    "\n",
    "print(\"H0:\", H0)\n",
    "print(\"Ha:\", Ha)\n",
    "print(\"t-statistic:\", t_statistic)\n",
    "print(\"p-value:\", p_value)\n",
    "\n",
    "if p_value < alpha:\n",
    "    print(\"Reject H0.\")\n",
    "else:\n",
    "    print(\"Fail to reject H0.\")"
   ]
  },
  {
   "cell_type": "markdown",
   "metadata": {},
   "source": [
    "12. Scenario: A company wants to analyze the click-through rates of two different website designs. The number of clicks for each design is as follows:\n",
    "    Design A: [100, 120, 110, 90, 95]\n",
    "    Design B: [80, 85, 90, 95, 100]\n",
    "    Perform a chi-square test to determine if there is a significant difference in the click-through rates between the two designs."
   ]
  },
  {
   "cell_type": "code",
   "execution_count": 55,
   "metadata": {},
   "outputs": [
    {
     "name": "stdout",
     "output_type": "stream",
     "text": [
      "Chi-square test statistic: 6.1107\n",
      "P-value: 0.1910\n",
      "There is no significant difference in the click-through rates between the two designs.\n"
     ]
    }
   ],
   "source": [
    "from scipy.stats import chi2_contingency\n",
    "import numpy as np\n",
    "\n",
    "design_a = [100, 120, 110, 90, 95]\n",
    "design_b = [80, 85, 90, 95, 100]\n",
    "\n",
    "observed = np.array([design_a, design_b])\n",
    "\n",
    "chi2, p, dof, expected = chi2_contingency(observed)\n",
    "\n",
    "print(f\"Chi-square test statistic: {chi2:.4f}\")\n",
    "print(f\"P-value: {p:.4f}\")\n",
    "\n",
    "if p < 0.05:\n",
    "    print(\"There is a significant difference in the click-through rates between the two designs.\")\n",
    "else:\n",
    "    print(\"There is no significant difference in the click-through rates between the two designs.\")"
   ]
  },
  {
   "cell_type": "markdown",
   "metadata": {},
   "source": [
    "13. Scenario: A survey is conducted to measure customer satisfaction with a product on a scale of 1 to 10. The data collected is as follows:\n",
    "    [7, 9, 6, 8, 10, 7, 8, 9, 7, 8]\n",
    "    Calculate the 95% confidence interval for the population mean satisfaction score.\n"
   ]
  },
  {
   "cell_type": "code",
   "execution_count": 56,
   "metadata": {},
   "outputs": [
    {
     "name": "stdout",
     "output_type": "stream",
     "text": [
      "The 95% confidence interval for the population mean satisfaction score is (7.043561120599888, 8.756438879400113)\n"
     ]
    }
   ],
   "source": [
    "import numpy as np\n",
    "from scipy import stats\n",
    "\n",
    "data = [7, 9, 6, 8, 10, 7, 8, 9, 7, 8]\n",
    "mean = np.mean(data)\n",
    "std_err = stats.sem(data)\n",
    "confidence_interval = stats.t.interval(0.95, len(data)-1, loc=mean, scale=std_err)\n",
    "\n",
    "print(f\"The 95% confidence interval for the population mean satisfaction score is {confidence_interval}\")"
   ]
  },
  {
   "cell_type": "markdown",
   "metadata": {},
   "source": [
    "14. Scenario: A company wants to analyze the effect of temperature on product performance. The data collected is as follows:\n",
    "    Temperature (in degrees Celsius): [20, 22, 23, 19, 21]\n",
    "    Performance (on a scale of 1 to 10): [8, 7, 9, 6, 8]\n",
    "    Perform a simple linear regression to predict performance based on temperature.\n"
   ]
  },
  {
   "cell_type": "code",
   "execution_count": 57,
   "metadata": {},
   "outputs": [
    {
     "name": "stdout",
     "output_type": "stream",
     "text": [
      "The equation of the regression line is: performance = -2.90 + 0.50 * temperature\n"
     ]
    }
   ],
   "source": [
    "import numpy as np\n",
    "from scipy import stats\n",
    "\n",
    "temperature = np.array([20, 22, 23, 19, 21])\n",
    "performance = np.array([8, 7, 9, 6, 8])\n",
    "\n",
    "slope, intercept, r_value, p_value, std_err = stats.linregress(temperature, performance)\n",
    "\n",
    "print(f\"The equation of the regression line is: performance = {intercept:.2f} + {slope:.2f} * temperature\")"
   ]
  },
  {
   "cell_type": "markdown",
   "metadata": {},
   "source": [
    "15. Scenario: A study is conducted to compare the preferences of two groups of participants. The preferences are measured on a Likert scale from 1 to 5. The data collected is as follows:\n",
    "    Group A: [4, 3, 5, 2, 4]\n",
    "    Group B: [3, 2, 4, 3, 3]\n",
    "    Perform a Mann-Whitney U test to determine if there is a significant difference in the median preferences between the two groups.\n"
   ]
  },
  {
   "cell_type": "code",
   "execution_count": 58,
   "metadata": {},
   "outputs": [
    {
     "name": "stdout",
     "output_type": "stream",
     "text": [
      "The Mann-Whitney U statistic is 17.00 and the p-value is 0.38\n"
     ]
    }
   ],
   "source": [
    "from scipy.stats import mannwhitneyu\n",
    "\n",
    "groupA = [4, 3, 5, 2, 4]\n",
    "groupB = [3, 2, 4, 3, 3]\n",
    "\n",
    "statistic, pvalue = mannwhitneyu(groupA, groupB)\n",
    "\n",
    "print(f\"The Mann-Whitney U statistic is {statistic:.2f} and the p-value is {pvalue:.2f}\")\n",
    "\n",
    "# P value is greater than significance level which is 0.05 hence we accept the Null hypothesis that two groups have the same median."
   ]
  },
  {
   "cell_type": "markdown",
   "metadata": {},
   "source": [
    "16. Scenario: A company wants to analyze the distribution of customer ages. The data collected is as follows:\n",
    "    [25, 30, 35, 40, 45, 50, 55, 60, 65, 70]\n",
    "    Calculate the interquartile range (IQR) of the ages.\n"
   ]
  },
  {
   "cell_type": "code",
   "execution_count": 59,
   "metadata": {},
   "outputs": [
    {
     "name": "stdout",
     "output_type": "stream",
     "text": [
      "The interquartile range (IQR) of the ages is 22.50\n"
     ]
    }
   ],
   "source": [
    "import numpy as np\n",
    "\n",
    "ages = [25, 30, 35, 40, 45, 50, 55, 60, 65, 70]\n",
    "q1 = np.percentile(ages, 25)\n",
    "q3 = np.percentile(ages, 75)\n",
    "iqr = q3 - q1\n",
    "\n",
    "print(f\"The interquartile range (IQR) of the ages is {iqr:.2f}\")"
   ]
  },
  {
   "cell_type": "markdown",
   "metadata": {},
   "source": [
    "17. Scenario: A study is conducted to compare the performance of three different machine learning algorithms. The accuracy scores for each algorithm are as follows:\n",
    "    Algorithm A: [0.85, 0.80, 0.82, 0.87, 0.83]\n",
    "    Algorithm B: [0.78, 0.82, 0.84, 0.80, 0.79]\n",
    "    Algorithm C: [0.90, 0.88, 0.89, 0.86, 0.87]\n",
    "    Perform a Kruskal-Wallis test to determine if there is a significant difference in the median accuracy scores between the algorithms.\n"
   ]
  },
  {
   "cell_type": "code",
   "execution_count": 60,
   "metadata": {},
   "outputs": [
    {
     "name": "stdout",
     "output_type": "stream",
     "text": [
      "The Kruskal-Wallis H statistic is 9.70 and the p-value is 0.01\n"
     ]
    }
   ],
   "source": [
    "from scipy.stats import kruskal\n",
    "\n",
    "algorithmA = [0.85, 0.80, 0.82, 0.87, 0.83]\n",
    "algorithmB = [0.78, 0.82, 0.84, 0.80, 0.79]\n",
    "algorithmC = [0.90, 0.88, 0.89, 0.86, 0.87]\n",
    "\n",
    "statistic, pvalue = kruskal(algorithmA, algorithmB, algorithmC)\n",
    "\n",
    "print(f\"The Kruskal-Wallis H statistic is {statistic:.2f} and the p-value is {pvalue:.2f}\")\n",
    "\n",
    "## P value is less than significance level (0.01 < 0.05) hence we reject the NULL hypothesis that there is a significant difference in the median \n",
    "# accuracy scores between the algorithms"
   ]
  },
  {
   "cell_type": "markdown",
   "metadata": {},
   "source": [
    "18. Scenario: A company wants to analyze the effect of price on sales. The data collected is as follows:\n",
    "    Price (in dollars): [10, 15, 12, 8, 14]\n",
    "    Sales: [100, 80, 90, 110, 95]\n",
    "    Perform a simple linear regression to predict sales based on price."
   ]
  },
  {
   "cell_type": "code",
   "execution_count": 61,
   "metadata": {},
   "outputs": [
    {
     "name": "stdout",
     "output_type": "stream",
     "text": [
      "The predicted sales for a price of 12 is: 94.30\n"
     ]
    }
   ],
   "source": [
    "import numpy as np\n",
    "from scipy import stats\n",
    "\n",
    "price = np.array([10, 15, 12, 8, 14])\n",
    "sales = np.array([100, 80, 90, 110, 95])\n",
    "\n",
    "slope, intercept, r_value, p_value, std_err = stats.linregress(price, sales)\n",
    "\n",
    "def predict_sales(new_price):\n",
    "    return intercept + slope * new_price\n",
    "\n",
    "new_price = 12\n",
    "predicted_sales = predict_sales(new_price)\n",
    "\n",
    "print(f\"The predicted sales for a price of {new_price} is: {predicted_sales:.2f}\")"
   ]
  },
  {
   "cell_type": "markdown",
   "metadata": {},
   "source": [
    "19. Scenario: A survey is conducted to measure the satisfaction levels of customers with a new product. The data collected is as follows:\n",
    "    [7, 8, 9, 6, 8, 7, 9, 7, 8, 7]\n",
    "    Calculate the standard error of the mean satisfaction score.\n"
   ]
  },
  {
   "cell_type": "code",
   "execution_count": 62,
   "metadata": {},
   "outputs": [
    {
     "name": "stdout",
     "output_type": "stream",
     "text": [
      "The standard error of the mean satisfaction score is 0.31\n"
     ]
    }
   ],
   "source": [
    "import numpy as np\n",
    "from scipy import stats\n",
    "\n",
    "data = [7, 8, 9, 6, 8, 7, 9, 7, 8, 7]\n",
    "mean = np.mean(data)\n",
    "std_err = stats.sem(data)\n",
    "\n",
    "print(f\"The standard error of the mean satisfaction score is {std_err:.2f}\")"
   ]
  },
  {
   "cell_type": "markdown",
   "metadata": {},
   "source": [
    "20. Scenario: A company wants to analyze the relationship between advertising expenditure and sales. The data collected is as follows:\n",
    "    Advertising Expenditure (in thousands): [10, 15, 12, 8, 14]\n",
    "    Sales (in thousands): [25, 30, 28, 20, 26]\n",
    "    Perform a multiple regression analysis to predict sales based on advertising expenditure."
   ]
  },
  {
   "cell_type": "code",
   "execution_count": 63,
   "metadata": {},
   "outputs": [
    {
     "name": "stdout",
     "output_type": "stream",
     "text": [
      "Predicted Sales:\n",
      "[31.79268293 24.87804878 27.18292683]\n"
     ]
    }
   ],
   "source": [
    "import numpy as np\n",
    "import statsmodels.api as sm\n",
    "\n",
    "# Input data\n",
    "advertising_expenditure = np.array([10, 15, 12, 8, 14])\n",
    "sales = np.array([25, 30, 28, 20, 26])\n",
    "\n",
    "# Add a constant term to the input data\n",
    "X = sm.add_constant(advertising_expenditure)\n",
    "\n",
    "# Fit the regression model\n",
    "model = sm.OLS(sales, X)\n",
    "results = model.fit()\n",
    "\n",
    "# Get the regression coefficients\n",
    "coefficients = results.params\n",
    "\n",
    "# Predict sales based on advertising expenditure\n",
    "new_advertising_expenditure = np.array([17, 11, 13])\n",
    "new_X = sm.add_constant(new_advertising_expenditure)\n",
    "predicted_sales = np.dot(new_X, coefficients)\n",
    "\n",
    "print(\"Predicted Sales:\")\n",
    "print(predicted_sales)"
   ]
  },
  {
   "cell_type": "code",
   "execution_count": null,
   "metadata": {},
   "outputs": [],
   "source": []
  }
 ],
 "metadata": {
  "kernelspec": {
   "display_name": "base",
   "language": "python",
   "name": "python3"
  },
  "language_info": {
   "codemirror_mode": {
    "name": "ipython",
    "version": 3
   },
   "file_extension": ".py",
   "mimetype": "text/x-python",
   "name": "python",
   "nbconvert_exporter": "python",
   "pygments_lexer": "ipython3",
   "version": "3.9.16"
  },
  "orig_nbformat": 4
 },
 "nbformat": 4,
 "nbformat_minor": 2
}
